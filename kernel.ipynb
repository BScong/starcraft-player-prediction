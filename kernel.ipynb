{
  "cells": [
    {
      "metadata": {
        "_uuid": "459219dbe86c5b1369ff69b8df36e84d352f9cc3"
      },
      "cell_type": "markdown",
      "source": "# Predicting Starcraft 2 players\n[Kaggle Starcraft II Prediction Challenge](https://www.kaggle.com/c/insa-5if-2018)"
    },
    {
      "metadata": {
        "_uuid": "af3aab13b1748bdb37a60668d6935a43f6d61b72"
      },
      "cell_type": "markdown",
      "source": "## Initialisation\nWe will use Python3 with [Numpy](http://www.numpy.org/) for linear algebra, [Pandas](https://pandas.pydata.org/) for data processing and CSV files I/O, and [scikit-learn](https://scikit-learn.org/stable/) for predictions. The environment is defined by the [Kaggle Python docker image](https://github.com/kaggle/docker-python)."
    },
    {
      "metadata": {
        "_uuid": "8f2839f25d086af736a60e9eeb907d3b93b6e0e5",
        "_cell_guid": "b1076dfc-b9ad-4769-8c92-a6c4dae69d19",
        "trusted": true
      },
      "cell_type": "code",
      "source": "import numpy as np\nimport pandas as pd\nfrom sklearn.linear_model import LogisticRegression \nimport os",
      "execution_count": null,
      "outputs": []
    },
    {
      "metadata": {
        "_uuid": "eb81f0c52d0bc37705fe3a094e1d2e23a5a7be03"
      },
      "cell_type": "markdown",
      "source": "## Reading data\nLet's define some functions to read data from the CSV files. We are storing an array of actions for each line."
    },
    {
      "metadata": {
        "_cell_guid": "79c7e3d0-c299-4dcb-8224-4455121ee9b0",
        "_uuid": "d629ff2d2480ee46fbb7e2d37f6b5fab8052498a",
        "trusted": true
      },
      "cell_type": "code",
      "source": "def read_train(file):\n    ids = []\n    data = []\n    with open(file,'r') as f:\n        for line in f:\n            line_data = line.replace('\\n','').split(',')\n            battlenet_id, race, actions = line_data[0],line_data[1],line_data[2:]\n            ids.append(battlenet_id)\n            data.append([race, \", \".join(actions)])\n    df = pd.DataFrame(data, columns=['race','actions'])\n    series = pd.Series(ids)\n    return df, series\n\ndef read_test(file):\n    data = []\n    with open(file,'r') as f:\n        for line in f:\n            line_data = line.replace('\\n','').split(',')\n            race, actions = line_data[0],line_data[1:]\n            data.append([race, \", \".join(actions)])\n    df = pd.DataFrame(data, columns=['race','actions'])\n    return df\n        ",
      "execution_count": null,
      "outputs": []
    },
    {
      "metadata": {
        "_uuid": "8d16b642f932e8801371c1edf912418b6a38ab61"
      },
      "cell_type": "markdown",
      "source": "Input data files are available in the `../input/` directory.\nAny results written to the current directory are saved as output."
    },
    {
      "metadata": {
        "trusted": true,
        "_uuid": "c764eb7b856a5c2c804700362b01188f80d63840"
      },
      "cell_type": "code",
      "source": "train_data, train_ids = read_train('../input/train.csv/TRAIN.CSV')\ntrain_data.head()",
      "execution_count": null,
      "outputs": []
    },
    {
      "metadata": {
        "trusted": true,
        "_uuid": "c890cca03c112557a612aa43efa22fb5d86bf2a1"
      },
      "cell_type": "code",
      "source": "train_ids.head()",
      "execution_count": null,
      "outputs": []
    },
    {
      "metadata": {
        "trusted": true,
        "_uuid": "30518b6e0780434fe1b4c95571795ef10ff5d3b9"
      },
      "cell_type": "code",
      "source": "test_data = read_test('../input/test.csv/TEST.CSV')\ntest_data.head()",
      "execution_count": null,
      "outputs": []
    },
    {
      "metadata": {
        "_uuid": "aad72edcdf27324ce6f34db2eca4c0e285168c5d"
      },
      "cell_type": "markdown",
      "source": "## First look at the data"
    },
    {
      "metadata": {
        "_uuid": "d8dacb32f10068f565fd3194cccfd7e40a3a31c0"
      },
      "cell_type": "markdown",
      "source": "### Race repartition"
    },
    {
      "metadata": {
        "trusted": true,
        "_uuid": "dafbd225d18dc8914cfd8b4dcb534e885d06d2bd"
      },
      "cell_type": "code",
      "source": "races = train_data['race'].value_counts()\nprint(races)\nplt = races.plot.bar()",
      "execution_count": null,
      "outputs": []
    },
    {
      "metadata": {
        "_uuid": "311c11def20a78445526ba1b1d8b022259ddc727"
      },
      "cell_type": "markdown",
      "source": "### Number of games by player"
    },
    {
      "metadata": {
        "trusted": true,
        "_uuid": "a8927c70a591f34deadb74562297685e35192f77"
      },
      "cell_type": "code",
      "source": "ids = train_ids.value_counts()\nprint(ids.describe())",
      "execution_count": null,
      "outputs": []
    },
    {
      "metadata": {
        "_uuid": "57026561ddc1eb7381be22b574ae8ee696d0ff3d"
      },
      "cell_type": "markdown",
      "source": "### List of actions (hotkeys)"
    },
    {
      "metadata": {
        "trusted": true,
        "_uuid": "fb0c6a947aed9fd01b4c8c76409c0293b1121cd0",
        "_kg_hide-input": false,
        "_kg_hide-output": false
      },
      "cell_type": "code",
      "source": "def find_unique_actions(df):\n    unique_actions = set()\n    actions = df['actions']\n    for action in actions:\n        for a in action.split(','):\n            a = a.strip()\n            if a!='' and a[0]!='t' and 'hotkey' in a:\n                unique_actions.add(a)\n    return unique_actions\n\nunique_hotkeys = sorted(list(find_unique_actions(train_data)))\nprint(unique_hotkeys)\n    ",
      "execution_count": null,
      "outputs": []
    },
    {
      "metadata": {
        "_uuid": "05caebcd9acf45b5b3195388ab9db86393e7a134"
      },
      "cell_type": "markdown",
      "source": "## Defining features\nWe are defining features as the race and the number of clicks on the hotkeys in the first 10 seconds. We have \nLet's try this approach by writing a function to generate those features.\n\nWe use Dummy variables to convert the race string into integers values."
    },
    {
      "metadata": {
        "trusted": true,
        "_uuid": "6221ded20ea0992f65b2593484b8b00bf4316fed"
      },
      "cell_type": "code",
      "source": "def generate_features(df):\n    features = []\n    hotkeys = unique_hotkeys\n    set_hotkeys = set(hotkeys)\n    for index, row in df.iterrows():\n        race = row[\"race\"]\n        actions = row[\"actions\"]\n        hotkeys_count = {hotkey:0 for hotkey in hotkeys}\n        for action in actions.split(','):\n            action = action.strip()\n            if action == 't10':\n                break\n            elif action in set_hotkeys:\n                hotkeys_count[action]+=1\n        current = [race, *[hotkeys_count[hotkey] for hotkey in hotkeys]]\n        features.append(current)\n    new_df = pd.DataFrame(features, columns=['race', *hotkeys])\n    return new_df",
      "execution_count": null,
      "outputs": []
    },
    {
      "metadata": {
        "trusted": true,
        "_uuid": "27ca13c60d51f4553552e94de944507dd59d031b"
      },
      "cell_type": "code",
      "source": "train_features = generate_features(train_data)\ntrain_features = pd.get_dummies(train_features, columns = ['race']) # convert race to integers\ntrain_features.head()",
      "execution_count": 163,
      "outputs": [
        {
          "output_type": "execute_result",
          "execution_count": 163,
          "data": {
            "text/plain": "   hotkey00  hotkey01  hotkey02    ...      race_Protoss  race_Terran  race_Zerg\n0         1         0         0    ...                 1            0          0\n1         0         0         0    ...                 1            0          0\n2         1         0         0    ...                 1            0          0\n3         0         0         0    ...                 1            0          0\n4         1         0         0    ...                 1            0          0\n\n[5 rows x 33 columns]",
            "text/html": "<div>\n<style scoped>\n    .dataframe tbody tr th:only-of-type {\n        vertical-align: middle;\n    }\n\n    .dataframe tbody tr th {\n        vertical-align: top;\n    }\n\n    .dataframe thead th {\n        text-align: right;\n    }\n</style>\n<table border=\"1\" class=\"dataframe\">\n  <thead>\n    <tr style=\"text-align: right;\">\n      <th></th>\n      <th>hotkey00</th>\n      <th>hotkey01</th>\n      <th>hotkey02</th>\n      <th>hotkey10</th>\n      <th>hotkey11</th>\n      <th>hotkey12</th>\n      <th>hotkey20</th>\n      <th>hotkey21</th>\n      <th>hotkey22</th>\n      <th>hotkey30</th>\n      <th>hotkey31</th>\n      <th>hotkey32</th>\n      <th>hotkey40</th>\n      <th>hotkey41</th>\n      <th>hotkey42</th>\n      <th>hotkey50</th>\n      <th>hotkey51</th>\n      <th>hotkey52</th>\n      <th>hotkey60</th>\n      <th>hotkey61</th>\n      <th>hotkey62</th>\n      <th>hotkey70</th>\n      <th>hotkey71</th>\n      <th>hotkey72</th>\n      <th>hotkey80</th>\n      <th>hotkey81</th>\n      <th>hotkey82</th>\n      <th>hotkey90</th>\n      <th>hotkey91</th>\n      <th>hotkey92</th>\n      <th>race_Protoss</th>\n      <th>race_Terran</th>\n      <th>race_Zerg</th>\n    </tr>\n  </thead>\n  <tbody>\n    <tr>\n      <th>0</th>\n      <td>1</td>\n      <td>0</td>\n      <td>0</td>\n      <td>0</td>\n      <td>0</td>\n      <td>0</td>\n      <td>0</td>\n      <td>0</td>\n      <td>0</td>\n      <td>1</td>\n      <td>0</td>\n      <td>0</td>\n      <td>0</td>\n      <td>0</td>\n      <td>0</td>\n      <td>0</td>\n      <td>0</td>\n      <td>0</td>\n      <td>0</td>\n      <td>0</td>\n      <td>0</td>\n      <td>0</td>\n      <td>0</td>\n      <td>0</td>\n      <td>0</td>\n      <td>0</td>\n      <td>0</td>\n      <td>0</td>\n      <td>0</td>\n      <td>0</td>\n      <td>1</td>\n      <td>0</td>\n      <td>0</td>\n    </tr>\n    <tr>\n      <th>1</th>\n      <td>0</td>\n      <td>0</td>\n      <td>0</td>\n      <td>0</td>\n      <td>0</td>\n      <td>0</td>\n      <td>0</td>\n      <td>0</td>\n      <td>0</td>\n      <td>1</td>\n      <td>0</td>\n      <td>5</td>\n      <td>0</td>\n      <td>0</td>\n      <td>0</td>\n      <td>0</td>\n      <td>0</td>\n      <td>0</td>\n      <td>0</td>\n      <td>0</td>\n      <td>0</td>\n      <td>0</td>\n      <td>0</td>\n      <td>0</td>\n      <td>0</td>\n      <td>0</td>\n      <td>0</td>\n      <td>0</td>\n      <td>0</td>\n      <td>0</td>\n      <td>1</td>\n      <td>0</td>\n      <td>0</td>\n    </tr>\n    <tr>\n      <th>2</th>\n      <td>1</td>\n      <td>0</td>\n      <td>0</td>\n      <td>0</td>\n      <td>0</td>\n      <td>0</td>\n      <td>0</td>\n      <td>0</td>\n      <td>0</td>\n      <td>1</td>\n      <td>0</td>\n      <td>0</td>\n      <td>0</td>\n      <td>0</td>\n      <td>0</td>\n      <td>0</td>\n      <td>0</td>\n      <td>0</td>\n      <td>0</td>\n      <td>0</td>\n      <td>0</td>\n      <td>0</td>\n      <td>0</td>\n      <td>0</td>\n      <td>0</td>\n      <td>0</td>\n      <td>0</td>\n      <td>0</td>\n      <td>0</td>\n      <td>0</td>\n      <td>1</td>\n      <td>0</td>\n      <td>0</td>\n    </tr>\n    <tr>\n      <th>3</th>\n      <td>0</td>\n      <td>0</td>\n      <td>0</td>\n      <td>0</td>\n      <td>0</td>\n      <td>0</td>\n      <td>0</td>\n      <td>0</td>\n      <td>0</td>\n      <td>1</td>\n      <td>0</td>\n      <td>2</td>\n      <td>0</td>\n      <td>0</td>\n      <td>0</td>\n      <td>0</td>\n      <td>0</td>\n      <td>0</td>\n      <td>0</td>\n      <td>0</td>\n      <td>0</td>\n      <td>0</td>\n      <td>0</td>\n      <td>0</td>\n      <td>0</td>\n      <td>0</td>\n      <td>0</td>\n      <td>0</td>\n      <td>0</td>\n      <td>0</td>\n      <td>1</td>\n      <td>0</td>\n      <td>0</td>\n    </tr>\n    <tr>\n      <th>4</th>\n      <td>1</td>\n      <td>0</td>\n      <td>0</td>\n      <td>0</td>\n      <td>0</td>\n      <td>0</td>\n      <td>0</td>\n      <td>0</td>\n      <td>0</td>\n      <td>1</td>\n      <td>0</td>\n      <td>0</td>\n      <td>0</td>\n      <td>0</td>\n      <td>0</td>\n      <td>0</td>\n      <td>0</td>\n      <td>0</td>\n      <td>0</td>\n      <td>0</td>\n      <td>0</td>\n      <td>0</td>\n      <td>0</td>\n      <td>0</td>\n      <td>0</td>\n      <td>0</td>\n      <td>0</td>\n      <td>0</td>\n      <td>0</td>\n      <td>0</td>\n      <td>1</td>\n      <td>0</td>\n      <td>0</td>\n    </tr>\n  </tbody>\n</table>\n</div>"
          },
          "metadata": {}
        }
      ]
    },
    {
      "metadata": {
        "trusted": true,
        "_uuid": "4a2241e01517f69bdc7074319c553417d99669f2"
      },
      "cell_type": "code",
      "source": "test_features = generate_features(test_data)\ntest_features = pd.get_dummies(test_features, columns = ['race']) # convert race to integers\ntest_features.head()",
      "execution_count": 162,
      "outputs": [
        {
          "output_type": "execute_result",
          "execution_count": 162,
          "data": {
            "text/plain": "   hotkey00  hotkey01  hotkey02    ...      race_Protoss  race_Terran  race_Zerg\n0         1         0        12    ...                 0            0          1\n1         1         0         0    ...                 0            1          0\n2         0         0         0    ...                 1            0          0\n3         0         0         0    ...                 0            0          1\n4         0         0         0    ...                 1            0          0\n\n[5 rows x 33 columns]",
            "text/html": "<div>\n<style scoped>\n    .dataframe tbody tr th:only-of-type {\n        vertical-align: middle;\n    }\n\n    .dataframe tbody tr th {\n        vertical-align: top;\n    }\n\n    .dataframe thead th {\n        text-align: right;\n    }\n</style>\n<table border=\"1\" class=\"dataframe\">\n  <thead>\n    <tr style=\"text-align: right;\">\n      <th></th>\n      <th>hotkey00</th>\n      <th>hotkey01</th>\n      <th>hotkey02</th>\n      <th>hotkey10</th>\n      <th>hotkey11</th>\n      <th>hotkey12</th>\n      <th>hotkey20</th>\n      <th>hotkey21</th>\n      <th>hotkey22</th>\n      <th>hotkey30</th>\n      <th>hotkey31</th>\n      <th>hotkey32</th>\n      <th>hotkey40</th>\n      <th>hotkey41</th>\n      <th>hotkey42</th>\n      <th>hotkey50</th>\n      <th>hotkey51</th>\n      <th>hotkey52</th>\n      <th>hotkey60</th>\n      <th>hotkey61</th>\n      <th>hotkey62</th>\n      <th>hotkey70</th>\n      <th>hotkey71</th>\n      <th>hotkey72</th>\n      <th>hotkey80</th>\n      <th>hotkey81</th>\n      <th>hotkey82</th>\n      <th>hotkey90</th>\n      <th>hotkey91</th>\n      <th>hotkey92</th>\n      <th>race_Protoss</th>\n      <th>race_Terran</th>\n      <th>race_Zerg</th>\n    </tr>\n  </thead>\n  <tbody>\n    <tr>\n      <th>0</th>\n      <td>1</td>\n      <td>0</td>\n      <td>12</td>\n      <td>1</td>\n      <td>0</td>\n      <td>0</td>\n      <td>0</td>\n      <td>0</td>\n      <td>0</td>\n      <td>0</td>\n      <td>0</td>\n      <td>0</td>\n      <td>0</td>\n      <td>0</td>\n      <td>0</td>\n      <td>0</td>\n      <td>0</td>\n      <td>0</td>\n      <td>1</td>\n      <td>0</td>\n      <td>12</td>\n      <td>0</td>\n      <td>0</td>\n      <td>0</td>\n      <td>0</td>\n      <td>0</td>\n      <td>0</td>\n      <td>1</td>\n      <td>0</td>\n      <td>0</td>\n      <td>0</td>\n      <td>0</td>\n      <td>1</td>\n    </tr>\n    <tr>\n      <th>1</th>\n      <td>1</td>\n      <td>0</td>\n      <td>0</td>\n      <td>0</td>\n      <td>0</td>\n      <td>0</td>\n      <td>0</td>\n      <td>0</td>\n      <td>0</td>\n      <td>1</td>\n      <td>0</td>\n      <td>12</td>\n      <td>0</td>\n      <td>0</td>\n      <td>0</td>\n      <td>0</td>\n      <td>0</td>\n      <td>0</td>\n      <td>0</td>\n      <td>0</td>\n      <td>0</td>\n      <td>0</td>\n      <td>0</td>\n      <td>0</td>\n      <td>0</td>\n      <td>0</td>\n      <td>0</td>\n      <td>0</td>\n      <td>0</td>\n      <td>0</td>\n      <td>0</td>\n      <td>1</td>\n      <td>0</td>\n    </tr>\n    <tr>\n      <th>2</th>\n      <td>0</td>\n      <td>0</td>\n      <td>0</td>\n      <td>0</td>\n      <td>0</td>\n      <td>0</td>\n      <td>2</td>\n      <td>0</td>\n      <td>2</td>\n      <td>1</td>\n      <td>0</td>\n      <td>0</td>\n      <td>1</td>\n      <td>0</td>\n      <td>0</td>\n      <td>0</td>\n      <td>0</td>\n      <td>0</td>\n      <td>1</td>\n      <td>0</td>\n      <td>8</td>\n      <td>1</td>\n      <td>0</td>\n      <td>0</td>\n      <td>1</td>\n      <td>0</td>\n      <td>0</td>\n      <td>0</td>\n      <td>0</td>\n      <td>0</td>\n      <td>1</td>\n      <td>0</td>\n      <td>0</td>\n    </tr>\n    <tr>\n      <th>3</th>\n      <td>0</td>\n      <td>0</td>\n      <td>0</td>\n      <td>0</td>\n      <td>0</td>\n      <td>0</td>\n      <td>1</td>\n      <td>0</td>\n      <td>0</td>\n      <td>0</td>\n      <td>0</td>\n      <td>0</td>\n      <td>1</td>\n      <td>0</td>\n      <td>0</td>\n      <td>0</td>\n      <td>0</td>\n      <td>0</td>\n      <td>0</td>\n      <td>0</td>\n      <td>0</td>\n      <td>0</td>\n      <td>0</td>\n      <td>0</td>\n      <td>0</td>\n      <td>0</td>\n      <td>0</td>\n      <td>0</td>\n      <td>0</td>\n      <td>0</td>\n      <td>0</td>\n      <td>0</td>\n      <td>1</td>\n    </tr>\n    <tr>\n      <th>4</th>\n      <td>0</td>\n      <td>0</td>\n      <td>0</td>\n      <td>0</td>\n      <td>0</td>\n      <td>0</td>\n      <td>0</td>\n      <td>0</td>\n      <td>0</td>\n      <td>1</td>\n      <td>0</td>\n      <td>0</td>\n      <td>1</td>\n      <td>0</td>\n      <td>0</td>\n      <td>1</td>\n      <td>0</td>\n      <td>0</td>\n      <td>0</td>\n      <td>0</td>\n      <td>0</td>\n      <td>0</td>\n      <td>0</td>\n      <td>0</td>\n      <td>0</td>\n      <td>0</td>\n      <td>0</td>\n      <td>0</td>\n      <td>0</td>\n      <td>0</td>\n      <td>1</td>\n      <td>0</td>\n      <td>0</td>\n    </tr>\n  </tbody>\n</table>\n</div>"
          },
          "metadata": {}
        }
      ]
    },
    {
      "metadata": {
        "trusted": true,
        "_uuid": "80eedc2cba30d65a3ee4d6fc209f5862d3039c4f"
      },
      "cell_type": "markdown",
      "source": "## Predicting players"
    },
    {
      "metadata": {
        "_uuid": "7262258d320a1ac7b24de0aadb040ca67ed19054"
      },
      "cell_type": "markdown",
      "source": "### First approach: Logistic regression"
    },
    {
      "metadata": {
        "trusted": true,
        "_uuid": "01bfc7e8fbb8e9e61bdea50278599baaf27b4db4"
      },
      "cell_type": "code",
      "source": "classifier = LogisticRegression(random_state=0, solver='liblinear', multi_class='auto')\nclassifier.fit(train_features,train_ids)",
      "execution_count": 167,
      "outputs": [
        {
          "output_type": "execute_result",
          "execution_count": 167,
          "data": {
            "text/plain": "LogisticRegression(C=1.0, class_weight=None, dual=False, fit_intercept=True,\n          intercept_scaling=1, max_iter=100, multi_class='auto',\n          n_jobs=None, penalty='l2', random_state=0, solver='liblinear',\n          tol=0.0001, verbose=0, warm_start=False)"
          },
          "metadata": {}
        }
      ]
    },
    {
      "metadata": {
        "trusted": true,
        "_uuid": "e7168f40ef4a1bf3bba386668717139c6940946e"
      },
      "cell_type": "code",
      "source": "predicted_ids = classifier.predict(test_features)",
      "execution_count": 168,
      "outputs": []
    },
    {
      "metadata": {
        "trusted": true,
        "_uuid": "ca0d46c635ad480210af1dd0aa338af8292f95c8"
      },
      "cell_type": "code",
      "source": "predicted_ids_df = pd.DataFrame(predicted_ids, columns=['prediction'])\npredicted_ids_df.index = range(1,len(predicted_ids_df)+1)\npredicted_ids_df.index.name = 'RowId'\npredicted_ids_df.head()",
      "execution_count": 171,
      "outputs": [
        {
          "output_type": "execute_result",
          "execution_count": 171,
          "data": {
            "text/plain": "                                              prediction\nRowId                                                   \n1      http://eu.battle.net/sc2/en/profile/3538115/1/...\n2      http://eu.battle.net/sc2/en/profile/2896854/1/...\n3      http://eu.battle.net/sc2/en/profile/3973341/1/...\n4      http://eu.battle.net/sc2/en/profile/250458/1/V...\n5      http://eu.battle.net/sc2/en/profile/950504/1/G...",
            "text/html": "<div>\n<style scoped>\n    .dataframe tbody tr th:only-of-type {\n        vertical-align: middle;\n    }\n\n    .dataframe tbody tr th {\n        vertical-align: top;\n    }\n\n    .dataframe thead th {\n        text-align: right;\n    }\n</style>\n<table border=\"1\" class=\"dataframe\">\n  <thead>\n    <tr style=\"text-align: right;\">\n      <th></th>\n      <th>prediction</th>\n    </tr>\n    <tr>\n      <th>RowId</th>\n      <th></th>\n    </tr>\n  </thead>\n  <tbody>\n    <tr>\n      <th>1</th>\n      <td>http://eu.battle.net/sc2/en/profile/3538115/1/...</td>\n    </tr>\n    <tr>\n      <th>2</th>\n      <td>http://eu.battle.net/sc2/en/profile/2896854/1/...</td>\n    </tr>\n    <tr>\n      <th>3</th>\n      <td>http://eu.battle.net/sc2/en/profile/3973341/1/...</td>\n    </tr>\n    <tr>\n      <th>4</th>\n      <td>http://eu.battle.net/sc2/en/profile/250458/1/V...</td>\n    </tr>\n    <tr>\n      <th>5</th>\n      <td>http://eu.battle.net/sc2/en/profile/950504/1/G...</td>\n    </tr>\n  </tbody>\n</table>\n</div>"
          },
          "metadata": {}
        }
      ]
    },
    {
      "metadata": {
        "_uuid": "7593839c486e33e37764c65e3511ef4b62a03c84"
      },
      "cell_type": "markdown",
      "source": "## Generate the output file"
    },
    {
      "metadata": {
        "trusted": true,
        "_uuid": "29fb3f7b9c406d6f9fce22a362d62113f6c84a32"
      },
      "cell_type": "code",
      "source": "predicted_ids_df.to_csv('out.csv')",
      "execution_count": null,
      "outputs": []
    },
    {
      "metadata": {
        "_uuid": "2d9b3900dcc4273b1cc0c311354decce2b1c540e"
      },
      "cell_type": "markdown",
      "source": "Checking the file"
    },
    {
      "metadata": {
        "trusted": true,
        "_uuid": "1ac29da93da1909afd28d25517913def01385030"
      },
      "cell_type": "code",
      "source": "def read_csv_head(path):\n    with open(path, 'r') as f:\n        c = 0\n        for line in f:\n            print(line)\n            c+=1\n            if c==10:\n                break\nread_csv_head('./out.csv')",
      "execution_count": 172,
      "outputs": [
        {
          "output_type": "stream",
          "text": "RowId,prediction\n\n1,http://eu.battle.net/sc2/en/profile/3538115/1/Golden/\n\n2,http://eu.battle.net/sc2/en/profile/2896854/1/MǂForGG/\n\n3,http://eu.battle.net/sc2/en/profile/3973341/1/yoeFWSan/\n\n4,http://eu.battle.net/sc2/en/profile/250458/1/VortiX/\n\n5,http://eu.battle.net/sc2/en/profile/950504/1/Grubby/\n\n6,http://eu.battle.net/sc2/en/profile/2896854/1/MǂForGG/\n\n7,http://eu.battle.net/sc2/en/profile/4234852/1/First/\n\n8,http://eu.battle.net/sc2/en/profile/884897/1/LiquidSnute/\n\n9,http://eu.battle.net/sc2/en/profile/2526293/1/Krr/\n\n",
          "name": "stdout"
        }
      ]
    }
  ],
  "metadata": {
    "kernelspec": {
      "display_name": "Python 3",
      "language": "python",
      "name": "python3"
    },
    "language_info": {
      "name": "python",
      "version": "3.6.6",
      "mimetype": "text/x-python",
      "codemirror_mode": {
        "name": "ipython",
        "version": 3
      },
      "pygments_lexer": "ipython3",
      "nbconvert_exporter": "python",
      "file_extension": ".py"
    }
  },
  "nbformat": 4,
  "nbformat_minor": 1
}