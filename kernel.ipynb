{
 "cells": [
  {
   "cell_type": "markdown",
   "metadata": {
    "_uuid": "459219dbe86c5b1369ff69b8df36e84d352f9cc3"
   },
   "source": [
    "# Predicting Starcraft 2 players\n",
    "[Kaggle Starcraft II Prediction Challenge](https://www.kaggle.com/c/insa-5if-2018)"
   ]
  },
  {
   "cell_type": "markdown",
   "metadata": {
    "_uuid": "af3aab13b1748bdb37a60668d6935a43f6d61b72"
   },
   "source": [
    "## Initialisation\n",
    "We will use Python3 with [Numpy](http://www.numpy.org/) for linear algebra, [Pandas](https://pandas.pydata.org/) for data processing and CSV files I/O, and [scikit-learn](https://scikit-learn.org/stable/) for predictions. The environment is defined by the [Kaggle Python docker image](https://github.com/kaggle/docker-python)."
   ]
  },
  {
   "cell_type": "code",
   "execution_count": 1,
   "metadata": {
    "_cell_guid": "b1076dfc-b9ad-4769-8c92-a6c4dae69d19",
    "_uuid": "8f2839f25d086af736a60e9eeb907d3b93b6e0e5"
   },
   "outputs": [],
   "source": [
    "import numpy as np\n",
    "import pandas as pd\n",
    "from sklearn.linear_model import LogisticRegression \n",
    "from sklearn.tree import DecisionTreeClassifier, export_graphviz\n",
    "from sklearn.ensemble import RandomForestClassifier\n",
    "from sklearn.model_selection import train_test_split\n",
    "from sklearn.metrics import classification_report, f1_score\n",
    "from sklearn import preprocessing\n",
    "import os\n",
    "pd.set_option('display.max_colwidth', 200)"
   ]
  },
  {
   "cell_type": "markdown",
   "metadata": {
    "_uuid": "eb81f0c52d0bc37705fe3a094e1d2e23a5a7be03"
   },
   "source": [
    "## Reading data\n",
    "Let's define some functions to read data from the CSV files. We are storing an array of actions for each line."
   ]
  },
  {
   "cell_type": "code",
   "execution_count": 2,
   "metadata": {
    "_cell_guid": "79c7e3d0-c299-4dcb-8224-4455121ee9b0",
    "_uuid": "d629ff2d2480ee46fbb7e2d37f6b5fab8052498a"
   },
   "outputs": [],
   "source": [
    "def read_train(file):\n",
    "    ids = []\n",
    "    data = []\n",
    "    with open(file,'r') as f:\n",
    "        for line in f:\n",
    "            line_data = line.replace('\\n','').split(',')\n",
    "            battlenet_id, race, actions = line_data[0],line_data[1],line_data[2:]\n",
    "            ids.append(battlenet_id)\n",
    "            data.append([race, \", \".join([a.strip() for a in actions])])\n",
    "    df = pd.DataFrame(data, columns=['race','actions'])\n",
    "    series = pd.Series(ids)\n",
    "    return df, series\n",
    "\n",
    "def read_test(file):\n",
    "    data = []\n",
    "    with open(file,'r') as f:\n",
    "        for line in f:\n",
    "            line_data = line.replace('\\n','').split(',')\n",
    "            race, actions = line_data[0],line_data[1:]\n",
    "            data.append([race, \", \".join([a.strip() for a in actions])])\n",
    "    df = pd.DataFrame(data, columns=['race','actions'])\n",
    "    return df\n",
    "        "
   ]
  },
  {
   "cell_type": "markdown",
   "metadata": {
    "_uuid": "8d16b642f932e8801371c1edf912418b6a38ab61"
   },
   "source": [
    "Input data files are available in the `../input/` directory.\n",
    "Any results written to the current directory are saved as output."
   ]
  },
  {
   "cell_type": "code",
   "execution_count": 3,
   "metadata": {
    "_uuid": "c764eb7b856a5c2c804700362b01188f80d63840"
   },
   "outputs": [
    {
     "data": {
      "text/html": [
       "<div>\n",
       "<style scoped>\n",
       "    .dataframe tbody tr th:only-of-type {\n",
       "        vertical-align: middle;\n",
       "    }\n",
       "\n",
       "    .dataframe tbody tr th {\n",
       "        vertical-align: top;\n",
       "    }\n",
       "\n",
       "    .dataframe thead th {\n",
       "        text-align: right;\n",
       "    }\n",
       "</style>\n",
       "<table border=\"1\" class=\"dataframe\">\n",
       "  <thead>\n",
       "    <tr style=\"text-align: right;\">\n",
       "      <th></th>\n",
       "      <th>race</th>\n",
       "      <th>actions</th>\n",
       "    </tr>\n",
       "  </thead>\n",
       "  <tbody>\n",
       "    <tr>\n",
       "      <th>0</th>\n",
       "      <td>Protoss</td>\n",
       "      <td>Base, s, s, s, s, s, t5, Base, s, hotkey30, hotkey00, t10, t15, t20, t25, t30, t35, s, hotkey32, s, hotkey32, s, hotkey32, s, t40, hotkey32, s, hotkey32, s, hotkey32, s, hotkey32, s, t45, hotkey32...</td>\n",
       "    </tr>\n",
       "    <tr>\n",
       "      <th>1</th>\n",
       "      <td>Protoss</td>\n",
       "      <td>s, Base, s, s, Base, s, s, Base, s, t5, hotkey30, s, hotkey32, s, hotkey32, s, hotkey32, s, hotkey32, s, hotkey32, t10, s, hotkey32, s, hotkey32, s, hotkey32, s, hotkey32, s, hotkey32, t15, s, hot...</td>\n",
       "    </tr>\n",
       "    <tr>\n",
       "      <th>2</th>\n",
       "      <td>Protoss</td>\n",
       "      <td>Base, s, s, s, Base, s, hotkey30, hotkey00, t5, t10, t15, s, hotkey32, s, hotkey32, s, hotkey32, s, t20, hotkey32, s, s, hotkey32, s, hotkey32, t25, s, hotkey32, s, hotkey32, s, hotkey32, s, hotke...</td>\n",
       "    </tr>\n",
       "    <tr>\n",
       "      <th>3</th>\n",
       "      <td>Protoss</td>\n",
       "      <td>Base, s, s, Base, s, s, s, t5, Base, s, hotkey30, s, hotkey32, s, hotkey32, t10, s, hotkey32, s, hotkey32, t15, s, hotkey32, s, t20, hotkey32, s, hotkey32, s, hotkey32, s, hotkey32, t25, s, hotkey...</td>\n",
       "    </tr>\n",
       "    <tr>\n",
       "      <th>4</th>\n",
       "      <td>Protoss</td>\n",
       "      <td>Base, s, s, s, Base, s, hotkey30, hotkey00, t5, t10, t15, s, hotkey32, s, hotkey32, s, hotkey32, t20, s, hotkey32, s, hotkey32, s, hotkey32, s, hotkey32, s, hotkey32, s, t25, hotkey32, t30, s, hot...</td>\n",
       "    </tr>\n",
       "  </tbody>\n",
       "</table>\n",
       "</div>"
      ],
      "text/plain": [
       "      race  \\\n",
       "0  Protoss   \n",
       "1  Protoss   \n",
       "2  Protoss   \n",
       "3  Protoss   \n",
       "4  Protoss   \n",
       "\n",
       "                                                                                                                                                                                                   actions  \n",
       "0  Base, s, s, s, s, s, t5, Base, s, hotkey30, hotkey00, t10, t15, t20, t25, t30, t35, s, hotkey32, s, hotkey32, s, hotkey32, s, t40, hotkey32, s, hotkey32, s, hotkey32, s, hotkey32, s, t45, hotkey32...  \n",
       "1  s, Base, s, s, Base, s, s, Base, s, t5, hotkey30, s, hotkey32, s, hotkey32, s, hotkey32, s, hotkey32, s, hotkey32, t10, s, hotkey32, s, hotkey32, s, hotkey32, s, hotkey32, s, hotkey32, t15, s, hot...  \n",
       "2  Base, s, s, s, Base, s, hotkey30, hotkey00, t5, t10, t15, s, hotkey32, s, hotkey32, s, hotkey32, s, t20, hotkey32, s, s, hotkey32, s, hotkey32, t25, s, hotkey32, s, hotkey32, s, hotkey32, s, hotke...  \n",
       "3  Base, s, s, Base, s, s, s, t5, Base, s, hotkey30, s, hotkey32, s, hotkey32, t10, s, hotkey32, s, hotkey32, t15, s, hotkey32, s, t20, hotkey32, s, hotkey32, s, hotkey32, s, hotkey32, t25, s, hotkey...  \n",
       "4  Base, s, s, s, Base, s, hotkey30, hotkey00, t5, t10, t15, s, hotkey32, s, hotkey32, s, hotkey32, t20, s, hotkey32, s, hotkey32, s, hotkey32, s, hotkey32, s, hotkey32, s, t25, hotkey32, t30, s, hot...  "
      ]
     },
     "execution_count": 3,
     "metadata": {},
     "output_type": "execute_result"
    }
   ],
   "source": [
    "folder = '../'\n",
    "train_data, train_ids = read_train(folder + 'TRAIN.CSV')\n",
    "train_data.head()"
   ]
  },
  {
   "cell_type": "code",
   "execution_count": 4,
   "metadata": {
    "_uuid": "c890cca03c112557a612aa43efa22fb5d86bf2a1"
   },
   "outputs": [
    {
     "data": {
      "text/plain": [
       "0       http://eu.battle.net/sc2/en/profile/4234852/1/First/\n",
       "1    http://eu.battle.net/sc2/en/profile/3074362/1/Stardust/\n",
       "2       http://eu.battle.net/sc2/en/profile/4234852/1/First/\n",
       "3    http://eu.battle.net/sc2/en/profile/3074362/1/Stardust/\n",
       "4       http://eu.battle.net/sc2/en/profile/4234852/1/First/\n",
       "dtype: object"
      ]
     },
     "execution_count": 4,
     "metadata": {},
     "output_type": "execute_result"
    }
   ],
   "source": [
    "train_ids.head()"
   ]
  },
  {
   "cell_type": "code",
   "execution_count": 5,
   "metadata": {
    "_uuid": "30518b6e0780434fe1b4c95571795ef10ff5d3b9"
   },
   "outputs": [
    {
     "data": {
      "text/html": [
       "<div>\n",
       "<style scoped>\n",
       "    .dataframe tbody tr th:only-of-type {\n",
       "        vertical-align: middle;\n",
       "    }\n",
       "\n",
       "    .dataframe tbody tr th {\n",
       "        vertical-align: top;\n",
       "    }\n",
       "\n",
       "    .dataframe thead th {\n",
       "        text-align: right;\n",
       "    }\n",
       "</style>\n",
       "<table border=\"1\" class=\"dataframe\">\n",
       "  <thead>\n",
       "    <tr style=\"text-align: right;\">\n",
       "      <th></th>\n",
       "      <th>race</th>\n",
       "      <th>actions</th>\n",
       "    </tr>\n",
       "  </thead>\n",
       "  <tbody>\n",
       "    <tr>\n",
       "      <th>0</th>\n",
       "      <td>Zerg</td>\n",
       "      <td>s, s, s, hotkey10, s, hotkey60, s, hotkey00, s, hotkey90, t5, hotkey02, s, hotkey02, hotkey62, hotkey02, s, hotkey02, hotkey62, hotkey02, hotkey62, s, hotkey02, hotkey62, s, hotkey62, hotkey02, ho...</td>\n",
       "    </tr>\n",
       "    <tr>\n",
       "      <th>1</th>\n",
       "      <td>Terran</td>\n",
       "      <td>s, hotkey30, hotkey00, t5, s, hotkey32, s, hotkey32, s, hotkey32, s, hotkey32, s, hotkey32, s, hotkey32, s, hotkey32, s, hotkey32, s, hotkey32, s, hotkey32, s, hotkey32, s, hotkey32, t10, s, hotke...</td>\n",
       "    </tr>\n",
       "    <tr>\n",
       "      <th>2</th>\n",
       "      <td>Protoss</td>\n",
       "      <td>Base, s, s, Base, s, hotkey20, hotkey30, hotkey60, hotkey40, hotkey80, hotkey70, s, hotkey62, s, hotkey62, t5, s, hotkey62, s, hotkey20, hotkey62, hotkey22, hotkey62, s, hotkey62, s, hotkey62, hot...</td>\n",
       "    </tr>\n",
       "    <tr>\n",
       "      <th>3</th>\n",
       "      <td>Zerg</td>\n",
       "      <td>s, s, s, s, hotkey20, s, hotkey40, t5, t10, hotkey22, hotkey42, s, hotkey42, s, t15, s, s, s, hotkey42, s, hotkey42, hotkey22, hotkey42, hotkey22, hotkey42, t20, s, hotkey42, s, hotkey42, s, hotke...</td>\n",
       "    </tr>\n",
       "    <tr>\n",
       "      <th>4</th>\n",
       "      <td>Protoss</td>\n",
       "      <td>Base, s, s, Base, s, hotkey50, hotkey30, t5, hotkey40, s, t10, hotkey52, t15, s, t20, hotkey52, t25, s, hotkey52, s, hotkey52, s, hotkey52, s, hotkey52, s, hotkey52, s, hotkey52, s, hotkey52, s, h...</td>\n",
       "    </tr>\n",
       "  </tbody>\n",
       "</table>\n",
       "</div>"
      ],
      "text/plain": [
       "      race  \\\n",
       "0     Zerg   \n",
       "1   Terran   \n",
       "2  Protoss   \n",
       "3     Zerg   \n",
       "4  Protoss   \n",
       "\n",
       "                                                                                                                                                                                                   actions  \n",
       "0  s, s, s, hotkey10, s, hotkey60, s, hotkey00, s, hotkey90, t5, hotkey02, s, hotkey02, hotkey62, hotkey02, s, hotkey02, hotkey62, hotkey02, hotkey62, s, hotkey02, hotkey62, s, hotkey62, hotkey02, ho...  \n",
       "1  s, hotkey30, hotkey00, t5, s, hotkey32, s, hotkey32, s, hotkey32, s, hotkey32, s, hotkey32, s, hotkey32, s, hotkey32, s, hotkey32, s, hotkey32, s, hotkey32, s, hotkey32, s, hotkey32, t10, s, hotke...  \n",
       "2  Base, s, s, Base, s, hotkey20, hotkey30, hotkey60, hotkey40, hotkey80, hotkey70, s, hotkey62, s, hotkey62, t5, s, hotkey62, s, hotkey20, hotkey62, hotkey22, hotkey62, s, hotkey62, s, hotkey62, hot...  \n",
       "3  s, s, s, s, hotkey20, s, hotkey40, t5, t10, hotkey22, hotkey42, s, hotkey42, s, t15, s, s, s, hotkey42, s, hotkey42, hotkey22, hotkey42, hotkey22, hotkey42, t20, s, hotkey42, s, hotkey42, s, hotke...  \n",
       "4  Base, s, s, Base, s, hotkey50, hotkey30, t5, hotkey40, s, t10, hotkey52, t15, s, t20, hotkey52, t25, s, hotkey52, s, hotkey52, s, hotkey52, s, hotkey52, s, hotkey52, s, hotkey52, s, hotkey52, s, h...  "
      ]
     },
     "execution_count": 5,
     "metadata": {},
     "output_type": "execute_result"
    }
   ],
   "source": [
    "test_data = read_test(folder + 'TEST.CSV')\n",
    "test_data.head()"
   ]
  },
  {
   "cell_type": "markdown",
   "metadata": {
    "_uuid": "aad72edcdf27324ce6f34db2eca4c0e285168c5d"
   },
   "source": [
    "## First look at the data"
   ]
  },
  {
   "cell_type": "markdown",
   "metadata": {
    "_uuid": "d8dacb32f10068f565fd3194cccfd7e40a3a31c0"
   },
   "source": [
    "### Race repartition"
   ]
  },
  {
   "cell_type": "code",
   "execution_count": 6,
   "metadata": {
    "_uuid": "dafbd225d18dc8914cfd8b4dcb534e885d06d2bd"
   },
   "outputs": [
    {
     "name": "stdout",
     "output_type": "stream",
     "text": [
      "Protoss    1210\n",
      "Zerg       1061\n",
      "Terran      781\n",
      "Name: race, dtype: int64\n"
     ]
    }
   ],
   "source": [
    "races = train_data['race'].value_counts()\n",
    "print(races)\n",
    "plt = races.plot.bar()"
   ]
  },
  {
   "cell_type": "markdown",
   "metadata": {
    "_uuid": "311c11def20a78445526ba1b1d8b022259ddc727"
   },
   "source": [
    "### Number of games by player"
   ]
  },
  {
   "cell_type": "code",
   "execution_count": 7,
   "metadata": {
    "_uuid": "a8927c70a591f34deadb74562297685e35192f77"
   },
   "outputs": [
    {
     "name": "stdout",
     "output_type": "stream",
     "text": [
      "count    200.00000\n",
      "mean      15.26000\n",
      "std       10.41464\n",
      "min        4.00000\n",
      "25%        7.00000\n",
      "50%       12.00000\n",
      "75%       20.00000\n",
      "max       58.00000\n",
      "dtype: float64\n"
     ]
    }
   ],
   "source": [
    "ids = train_ids.value_counts()\n",
    "print(ids.describe())"
   ]
  },
  {
   "cell_type": "markdown",
   "metadata": {
    "_uuid": "57026561ddc1eb7381be22b574ae8ee696d0ff3d"
   },
   "source": [
    "### List of actions (hotkeys)"
   ]
  },
  {
   "cell_type": "code",
   "execution_count": 8,
   "metadata": {
    "_kg_hide-input": false,
    "_kg_hide-output": false,
    "_uuid": "fb0c6a947aed9fd01b4c8c76409c0293b1121cd0"
   },
   "outputs": [
    {
     "name": "stdout",
     "output_type": "stream",
     "text": [
      "['Base', 'SingleMineral', 'hotkey00', 'hotkey01', 'hotkey02', 'hotkey10', 'hotkey11', 'hotkey12', 'hotkey20', 'hotkey21', 'hotkey22', 'hotkey30', 'hotkey31', 'hotkey32', 'hotkey40', 'hotkey41', 'hotkey42', 'hotkey50', 'hotkey51', 'hotkey52', 'hotkey60', 'hotkey61', 'hotkey62', 'hotkey70', 'hotkey71', 'hotkey72', 'hotkey80', 'hotkey81', 'hotkey82', 'hotkey90', 'hotkey91', 'hotkey92', 's']\n",
      "['hotkey7', 'hotkey5', 'hotkey4', 'hotkey0', 'hotkey2', 'hotkey6', 'hotkey1', 'hotkey3', 'hotkey9', 'hotkey8']\n"
     ]
    }
   ],
   "source": [
    "def find_unique_actions(df):\n",
    "    unique_actions = set()\n",
    "    actions = df['actions']\n",
    "    for action in actions:\n",
    "        for a in action.split(','):\n",
    "            a = a.strip()\n",
    "            if a!='' and a[0]!='t':\n",
    "                unique_actions.add(a)\n",
    "    return unique_actions\n",
    "\n",
    "unique_hotkeys = sorted(list(find_unique_actions(train_data)))\n",
    "print(unique_hotkeys)\n",
    "\n",
    "keys = list(set([hotkey[:len(hotkey)-1] for hotkey in unique_hotkeys if 'hotkey' in hotkey]))\n",
    "print(keys)\n",
    "    "
   ]
  },
  {
   "cell_type": "markdown",
   "metadata": {
    "_uuid": "05caebcd9acf45b5b3195388ab9db86393e7a134"
   },
   "source": [
    "## Defining features\n",
    "We are defining features as the race and the number of clicks on the hotkeys in the first 10 seconds. We have \n",
    "Let's try this approach by writing a function to generate those features.\n",
    "\n",
    "We use Dummy variables to convert the race string into integers values."
   ]
  },
  {
   "cell_type": "code",
   "execution_count": 9,
   "metadata": {
    "_uuid": "6221ded20ea0992f65b2593484b8b00bf4316fed"
   },
   "outputs": [],
   "source": [
    "hotkey_columns = ['first_hotkey','second_hotkey','third_hotkey','fourth_hotkey','fifth_hotkey','sixth_hotkey','seventh_hotkey','eighth_hotkey']\n",
    "\n",
    "le = preprocessing.LabelEncoder()\n",
    "\n",
    "def generate_features(df):\n",
    "    features = []\n",
    "    hotkeys = unique_hotkeys\n",
    "    set_hotkeys = set(hotkeys)\n",
    "    for index, row in df.iterrows():\n",
    "        first_hotkeys = []\n",
    "        race = row[\"race\"]\n",
    "        actions = row[\"actions\"]\n",
    "        hotkeys_count = {hotkey:0 for hotkey in hotkeys}\n",
    "        hotkeys_count_t30 = {hotkey:0 for hotkey in hotkeys}\n",
    "        hotkeys_count_t60 = {hotkey:0 for hotkey in hotkeys}\n",
    "        hotkeys_count_t90 = {hotkey:0 for hotkey in hotkeys}\n",
    "        hotkeys_count_t120 = {hotkey:0 for hotkey in hotkeys}\n",
    "        t30 = False\n",
    "        t60 = False\n",
    "        t90 = False\n",
    "        t120 = False\n",
    "        keys_count = {key:0 for key in keys}\n",
    "        for action in actions.split(','):\n",
    "            action = action.strip()\n",
    "            if action in set_hotkeys:\n",
    "                hotkeys_count[action]+=1\n",
    "                if not t30:\n",
    "                    hotkeys_count_t30[action]+=1\n",
    "                if not t60:\n",
    "                    hotkeys_count_t60[action]+=1\n",
    "                if not t90:\n",
    "                    hotkeys_count_t90[action]+=1\n",
    "                if not t90:\n",
    "                    hotkeys_count_t120[action]+=1\n",
    "            if 'hotkey' in action:\n",
    "                keys_count[action[:len(action)-1]]+=1\n",
    "            if len(first_hotkeys)<len(hotkey_columns) and 'hotkey' in action:\n",
    "                first_hotkeys.append(action)\n",
    "                \n",
    "            if 't30' in action:\n",
    "                t30 = False\n",
    "            elif 't60' in action:\n",
    "                t60 = True\n",
    "            elif 't90' in action:\n",
    "                t90 = True\n",
    "            elif 't120' in action:\n",
    "                t120 = True\n",
    "                \n",
    "        while len(first_hotkeys)<len(hotkey_columns):\n",
    "            first_hotkeys.append('None')\n",
    "        current = [race, *[hotkeys_count[hotkey] for hotkey in hotkeys],*[hotkeys_count_t30[hotkey] for hotkey in hotkeys],*[hotkeys_count_t60[hotkey] for hotkey in hotkeys],*[hotkeys_count_t90[hotkey] for hotkey in hotkeys], *[hotkeys_count_t120[hotkey] for hotkey in hotkeys], *[keys_count[key] for key in keys], *first_hotkeys]\n",
    "        features.append(current)\n",
    "    new_df = pd.DataFrame(features, columns=['race', *hotkeys,*[hotkey+'_t30' for hotkey in hotkeys],*[hotkey+'_t60' for hotkey in hotkeys],*[hotkey+'_t90' for hotkey in hotkeys],*[hotkey+'_t120' for hotkey in hotkeys], *keys, *hotkey_columns])\n",
    "    return new_df"
   ]
  },
  {
   "cell_type": "code",
   "execution_count": 10,
   "metadata": {
    "_uuid": "27ca13c60d51f4553552e94de944507dd59d031b"
   },
   "outputs": [
    {
     "data": {
      "text/html": [
       "<div>\n",
       "<style scoped>\n",
       "    .dataframe tbody tr th:only-of-type {\n",
       "        vertical-align: middle;\n",
       "    }\n",
       "\n",
       "    .dataframe tbody tr th {\n",
       "        vertical-align: top;\n",
       "    }\n",
       "\n",
       "    .dataframe thead th {\n",
       "        text-align: right;\n",
       "    }\n",
       "</style>\n",
       "<table border=\"1\" class=\"dataframe\">\n",
       "  <thead>\n",
       "    <tr style=\"text-align: right;\">\n",
       "      <th></th>\n",
       "      <th>Base</th>\n",
       "      <th>SingleMineral</th>\n",
       "      <th>hotkey00</th>\n",
       "      <th>hotkey01</th>\n",
       "      <th>hotkey02</th>\n",
       "      <th>hotkey10</th>\n",
       "      <th>hotkey11</th>\n",
       "      <th>hotkey12</th>\n",
       "      <th>hotkey20</th>\n",
       "      <th>hotkey21</th>\n",
       "      <th>...</th>\n",
       "      <th>second_hotkey</th>\n",
       "      <th>third_hotkey</th>\n",
       "      <th>fourth_hotkey</th>\n",
       "      <th>fifth_hotkey</th>\n",
       "      <th>sixth_hotkey</th>\n",
       "      <th>seventh_hotkey</th>\n",
       "      <th>eighth_hotkey</th>\n",
       "      <th>race_Protoss</th>\n",
       "      <th>race_Terran</th>\n",
       "      <th>race_Zerg</th>\n",
       "    </tr>\n",
       "  </thead>\n",
       "  <tbody>\n",
       "    <tr>\n",
       "      <th>0</th>\n",
       "      <td>66</td>\n",
       "      <td>5</td>\n",
       "      <td>5</td>\n",
       "      <td>0</td>\n",
       "      <td>41</td>\n",
       "      <td>63</td>\n",
       "      <td>0</td>\n",
       "      <td>350</td>\n",
       "      <td>37</td>\n",
       "      <td>0</td>\n",
       "      <td>...</td>\n",
       "      <td>1</td>\n",
       "      <td>10</td>\n",
       "      <td>9</td>\n",
       "      <td>10</td>\n",
       "      <td>10</td>\n",
       "      <td>9</td>\n",
       "      <td>9</td>\n",
       "      <td>1</td>\n",
       "      <td>0</td>\n",
       "      <td>0</td>\n",
       "    </tr>\n",
       "    <tr>\n",
       "      <th>1</th>\n",
       "      <td>12</td>\n",
       "      <td>0</td>\n",
       "      <td>2</td>\n",
       "      <td>0</td>\n",
       "      <td>83</td>\n",
       "      <td>65</td>\n",
       "      <td>3</td>\n",
       "      <td>448</td>\n",
       "      <td>15</td>\n",
       "      <td>0</td>\n",
       "      <td>...</td>\n",
       "      <td>11</td>\n",
       "      <td>10</td>\n",
       "      <td>9</td>\n",
       "      <td>10</td>\n",
       "      <td>10</td>\n",
       "      <td>9</td>\n",
       "      <td>9</td>\n",
       "      <td>1</td>\n",
       "      <td>0</td>\n",
       "      <td>0</td>\n",
       "    </tr>\n",
       "    <tr>\n",
       "      <th>2</th>\n",
       "      <td>47</td>\n",
       "      <td>3</td>\n",
       "      <td>3</td>\n",
       "      <td>0</td>\n",
       "      <td>18</td>\n",
       "      <td>17</td>\n",
       "      <td>0</td>\n",
       "      <td>130</td>\n",
       "      <td>9</td>\n",
       "      <td>0</td>\n",
       "      <td>...</td>\n",
       "      <td>1</td>\n",
       "      <td>10</td>\n",
       "      <td>9</td>\n",
       "      <td>10</td>\n",
       "      <td>10</td>\n",
       "      <td>9</td>\n",
       "      <td>9</td>\n",
       "      <td>1</td>\n",
       "      <td>0</td>\n",
       "      <td>0</td>\n",
       "    </tr>\n",
       "    <tr>\n",
       "      <th>3</th>\n",
       "      <td>21</td>\n",
       "      <td>0</td>\n",
       "      <td>2</td>\n",
       "      <td>0</td>\n",
       "      <td>39</td>\n",
       "      <td>32</td>\n",
       "      <td>1</td>\n",
       "      <td>259</td>\n",
       "      <td>14</td>\n",
       "      <td>0</td>\n",
       "      <td>...</td>\n",
       "      <td>11</td>\n",
       "      <td>10</td>\n",
       "      <td>9</td>\n",
       "      <td>10</td>\n",
       "      <td>10</td>\n",
       "      <td>9</td>\n",
       "      <td>9</td>\n",
       "      <td>1</td>\n",
       "      <td>0</td>\n",
       "      <td>0</td>\n",
       "    </tr>\n",
       "    <tr>\n",
       "      <th>4</th>\n",
       "      <td>2</td>\n",
       "      <td>0</td>\n",
       "      <td>1</td>\n",
       "      <td>0</td>\n",
       "      <td>0</td>\n",
       "      <td>10</td>\n",
       "      <td>0</td>\n",
       "      <td>52</td>\n",
       "      <td>6</td>\n",
       "      <td>0</td>\n",
       "      <td>...</td>\n",
       "      <td>1</td>\n",
       "      <td>10</td>\n",
       "      <td>9</td>\n",
       "      <td>10</td>\n",
       "      <td>10</td>\n",
       "      <td>9</td>\n",
       "      <td>9</td>\n",
       "      <td>1</td>\n",
       "      <td>0</td>\n",
       "      <td>0</td>\n",
       "    </tr>\n",
       "  </tbody>\n",
       "</table>\n",
       "<p>5 rows × 186 columns</p>\n",
       "</div>"
      ],
      "text/plain": [
       "   Base  SingleMineral  hotkey00  hotkey01  hotkey02  hotkey10  hotkey11  \\\n",
       "0    66              5         5         0        41        63         0   \n",
       "1    12              0         2         0        83        65         3   \n",
       "2    47              3         3         0        18        17         0   \n",
       "3    21              0         2         0        39        32         1   \n",
       "4     2              0         1         0         0        10         0   \n",
       "\n",
       "   hotkey12  hotkey20  hotkey21    ...      second_hotkey  third_hotkey  \\\n",
       "0       350        37         0    ...                  1            10   \n",
       "1       448        15         0    ...                 11            10   \n",
       "2       130         9         0    ...                  1            10   \n",
       "3       259        14         0    ...                 11            10   \n",
       "4        52         6         0    ...                  1            10   \n",
       "\n",
       "   fourth_hotkey  fifth_hotkey  sixth_hotkey  seventh_hotkey  eighth_hotkey  \\\n",
       "0              9            10            10               9              9   \n",
       "1              9            10            10               9              9   \n",
       "2              9            10            10               9              9   \n",
       "3              9            10            10               9              9   \n",
       "4              9            10            10               9              9   \n",
       "\n",
       "   race_Protoss  race_Terran  race_Zerg  \n",
       "0             1            0          0  \n",
       "1             1            0          0  \n",
       "2             1            0          0  \n",
       "3             1            0          0  \n",
       "4             1            0          0  \n",
       "\n",
       "[5 rows x 186 columns]"
      ]
     },
     "execution_count": 10,
     "metadata": {},
     "output_type": "execute_result"
    }
   ],
   "source": [
    "train_features = generate_features(train_data)\n",
    "train_features = pd.get_dummies(train_features, columns = ['race']) # convert race to integers\n",
    "for col in hotkey_columns:\n",
    "    train_features[col] = le.fit_transform(train_features[col]) \n",
    "train_features.head()"
   ]
  },
  {
   "cell_type": "code",
   "execution_count": 11,
   "metadata": {
    "_uuid": "4a2241e01517f69bdc7074319c553417d99669f2"
   },
   "outputs": [
    {
     "data": {
      "text/html": [
       "<div>\n",
       "<style scoped>\n",
       "    .dataframe tbody tr th:only-of-type {\n",
       "        vertical-align: middle;\n",
       "    }\n",
       "\n",
       "    .dataframe tbody tr th {\n",
       "        vertical-align: top;\n",
       "    }\n",
       "\n",
       "    .dataframe thead th {\n",
       "        text-align: right;\n",
       "    }\n",
       "</style>\n",
       "<table border=\"1\" class=\"dataframe\">\n",
       "  <thead>\n",
       "    <tr style=\"text-align: right;\">\n",
       "      <th></th>\n",
       "      <th>Base</th>\n",
       "      <th>SingleMineral</th>\n",
       "      <th>hotkey00</th>\n",
       "      <th>hotkey01</th>\n",
       "      <th>hotkey02</th>\n",
       "      <th>hotkey10</th>\n",
       "      <th>hotkey11</th>\n",
       "      <th>hotkey12</th>\n",
       "      <th>hotkey20</th>\n",
       "      <th>hotkey21</th>\n",
       "      <th>...</th>\n",
       "      <th>second_hotkey</th>\n",
       "      <th>third_hotkey</th>\n",
       "      <th>fourth_hotkey</th>\n",
       "      <th>fifth_hotkey</th>\n",
       "      <th>sixth_hotkey</th>\n",
       "      <th>seventh_hotkey</th>\n",
       "      <th>eighth_hotkey</th>\n",
       "      <th>race_Protoss</th>\n",
       "      <th>race_Terran</th>\n",
       "      <th>race_Zerg</th>\n",
       "    </tr>\n",
       "  </thead>\n",
       "  <tbody>\n",
       "    <tr>\n",
       "      <th>0</th>\n",
       "      <td>19</td>\n",
       "      <td>3</td>\n",
       "      <td>14</td>\n",
       "      <td>0</td>\n",
       "      <td>847</td>\n",
       "      <td>7</td>\n",
       "      <td>31</td>\n",
       "      <td>352</td>\n",
       "      <td>10</td>\n",
       "      <td>0</td>\n",
       "      <td>...</td>\n",
       "      <td>15</td>\n",
       "      <td>1</td>\n",
       "      <td>21</td>\n",
       "      <td>3</td>\n",
       "      <td>2</td>\n",
       "      <td>16</td>\n",
       "      <td>3</td>\n",
       "      <td>0</td>\n",
       "      <td>0</td>\n",
       "      <td>1</td>\n",
       "    </tr>\n",
       "    <tr>\n",
       "      <th>1</th>\n",
       "      <td>0</td>\n",
       "      <td>0</td>\n",
       "      <td>2</td>\n",
       "      <td>0</td>\n",
       "      <td>33</td>\n",
       "      <td>14</td>\n",
       "      <td>0</td>\n",
       "      <td>336</td>\n",
       "      <td>31</td>\n",
       "      <td>0</td>\n",
       "      <td>...</td>\n",
       "      <td>1</td>\n",
       "      <td>10</td>\n",
       "      <td>9</td>\n",
       "      <td>9</td>\n",
       "      <td>8</td>\n",
       "      <td>9</td>\n",
       "      <td>9</td>\n",
       "      <td>0</td>\n",
       "      <td>1</td>\n",
       "      <td>0</td>\n",
       "    </tr>\n",
       "    <tr>\n",
       "      <th>2</th>\n",
       "      <td>20</td>\n",
       "      <td>0</td>\n",
       "      <td>1</td>\n",
       "      <td>0</td>\n",
       "      <td>0</td>\n",
       "      <td>10</td>\n",
       "      <td>0</td>\n",
       "      <td>479</td>\n",
       "      <td>53</td>\n",
       "      <td>0</td>\n",
       "      <td>...</td>\n",
       "      <td>9</td>\n",
       "      <td>15</td>\n",
       "      <td>10</td>\n",
       "      <td>20</td>\n",
       "      <td>16</td>\n",
       "      <td>16</td>\n",
       "      <td>16</td>\n",
       "      <td>1</td>\n",
       "      <td>0</td>\n",
       "      <td>0</td>\n",
       "    </tr>\n",
       "    <tr>\n",
       "      <th>3</th>\n",
       "      <td>17</td>\n",
       "      <td>2</td>\n",
       "      <td>0</td>\n",
       "      <td>0</td>\n",
       "      <td>0</td>\n",
       "      <td>68</td>\n",
       "      <td>89</td>\n",
       "      <td>525</td>\n",
       "      <td>13</td>\n",
       "      <td>6</td>\n",
       "      <td>...</td>\n",
       "      <td>11</td>\n",
       "      <td>7</td>\n",
       "      <td>12</td>\n",
       "      <td>11</td>\n",
       "      <td>10</td>\n",
       "      <td>11</td>\n",
       "      <td>7</td>\n",
       "      <td>0</td>\n",
       "      <td>0</td>\n",
       "      <td>1</td>\n",
       "    </tr>\n",
       "    <tr>\n",
       "      <th>4</th>\n",
       "      <td>21</td>\n",
       "      <td>0</td>\n",
       "      <td>3</td>\n",
       "      <td>0</td>\n",
       "      <td>0</td>\n",
       "      <td>4</td>\n",
       "      <td>7</td>\n",
       "      <td>74</td>\n",
       "      <td>8</td>\n",
       "      <td>0</td>\n",
       "      <td>...</td>\n",
       "      <td>9</td>\n",
       "      <td>11</td>\n",
       "      <td>14</td>\n",
       "      <td>14</td>\n",
       "      <td>12</td>\n",
       "      <td>13</td>\n",
       "      <td>14</td>\n",
       "      <td>1</td>\n",
       "      <td>0</td>\n",
       "      <td>0</td>\n",
       "    </tr>\n",
       "  </tbody>\n",
       "</table>\n",
       "<p>5 rows × 186 columns</p>\n",
       "</div>"
      ],
      "text/plain": [
       "   Base  SingleMineral  hotkey00  hotkey01  hotkey02  hotkey10  hotkey11  \\\n",
       "0    19              3        14         0       847         7        31   \n",
       "1     0              0         2         0        33        14         0   \n",
       "2    20              0         1         0         0        10         0   \n",
       "3    17              2         0         0         0        68        89   \n",
       "4    21              0         3         0         0         4         7   \n",
       "\n",
       "   hotkey12  hotkey20  hotkey21    ...      second_hotkey  third_hotkey  \\\n",
       "0       352        10         0    ...                 15             1   \n",
       "1       336        31         0    ...                  1            10   \n",
       "2       479        53         0    ...                  9            15   \n",
       "3       525        13         6    ...                 11             7   \n",
       "4        74         8         0    ...                  9            11   \n",
       "\n",
       "   fourth_hotkey  fifth_hotkey  sixth_hotkey  seventh_hotkey  eighth_hotkey  \\\n",
       "0             21             3             2              16              3   \n",
       "1              9             9             8               9              9   \n",
       "2             10            20            16              16             16   \n",
       "3             12            11            10              11              7   \n",
       "4             14            14            12              13             14   \n",
       "\n",
       "   race_Protoss  race_Terran  race_Zerg  \n",
       "0             0            0          1  \n",
       "1             0            1          0  \n",
       "2             1            0          0  \n",
       "3             0            0          1  \n",
       "4             1            0          0  \n",
       "\n",
       "[5 rows x 186 columns]"
      ]
     },
     "execution_count": 11,
     "metadata": {},
     "output_type": "execute_result"
    }
   ],
   "source": [
    "test_features = generate_features(test_data)\n",
    "test_features = pd.get_dummies(test_features, columns = ['race']) # convert race to integers\n",
    "for col in hotkey_columns:\n",
    "    test_features[col] = le.fit_transform(test_features[col]) \n",
    "\n",
    "'''\n",
    "# Get missing columns in the training test\n",
    "missing_cols = set( train_features.columns ) - set( test_features.columns )\n",
    "# Add a missing column in test set with default value equal to 0\n",
    "for c in missing_cols:\n",
    "    test_features[c] = 0\n",
    "# Ensure the order of column in the test set is in the same order than in train set\n",
    "test_features = test_features[train_features.columns]\n",
    "'''\n",
    "\n",
    "test_features.head()"
   ]
  },
  {
   "cell_type": "markdown",
   "metadata": {
    "_uuid": "80eedc2cba30d65a3ee4d6fc209f5862d3039c4f"
   },
   "source": [
    "## Predicting players"
   ]
  },
  {
   "cell_type": "markdown",
   "metadata": {},
   "source": [
    "### Helper functions to save and check csv for submissions"
   ]
  },
  {
   "cell_type": "code",
   "execution_count": 12,
   "metadata": {},
   "outputs": [],
   "source": [
    "def read_csv_head(path):\n",
    "    with open(path, 'r') as f:\n",
    "        c = 0\n",
    "        for line in f:\n",
    "            print(line)\n",
    "            c+=1\n",
    "            if c==10:\n",
    "                break\n",
    "\n",
    "def convert(output):\n",
    "    output_df = pd.DataFrame(output, columns=['prediction'])\n",
    "    output_df.index = range(1,len(output_df)+1)\n",
    "    output_df.index.name = 'RowId'\n",
    "    return output_df\n",
    "\n",
    "def save(output_df, name):\n",
    "    output_df.to_csv('./out_'+name+'.csv')"
   ]
  },
  {
   "cell_type": "code",
   "execution_count": 13,
   "metadata": {},
   "outputs": [],
   "source": [
    "x_train, x_test, y_train, y_test = train_test_split(train_features, train_ids, test_size=0.30, random_state=42)\n",
    "target_names = train_ids.unique()"
   ]
  },
  {
   "cell_type": "markdown",
   "metadata": {
    "_uuid": "7262258d320a1ac7b24de0aadb040ca67ed19054"
   },
   "source": [
    "### First approach: Logistic regression"
   ]
  },
  {
   "cell_type": "code",
   "execution_count": 14,
   "metadata": {},
   "outputs": [
    {
     "data": {
      "text/plain": [
       "0.8799126637554585"
      ]
     },
     "execution_count": 14,
     "metadata": {},
     "output_type": "execute_result"
    }
   ],
   "source": [
    "classifier = LogisticRegression(random_state=0, solver='liblinear', multi_class='auto', max_iter=2000)\n",
    "classifier.fit(x_train,y_train)\n",
    "y_predict = classifier.predict(x_test)\n",
    "f1_score(y_test, y_predict, average='micro')"
   ]
  },
  {
   "cell_type": "code",
   "execution_count": 15,
   "metadata": {
    "_uuid": "01bfc7e8fbb8e9e61bdea50278599baaf27b4db4"
   },
   "outputs": [
    {
     "data": {
      "text/plain": [
       "LogisticRegression(C=1.0, class_weight=None, dual=False, fit_intercept=True,\n",
       "          intercept_scaling=1, max_iter=2000, multi_class='auto',\n",
       "          n_jobs=None, penalty='l2', random_state=0, solver='liblinear',\n",
       "          tol=0.0001, verbose=0, warm_start=False)"
      ]
     },
     "execution_count": 15,
     "metadata": {},
     "output_type": "execute_result"
    }
   ],
   "source": [
    "classifier = LogisticRegression(random_state=0, solver='liblinear', multi_class='auto', max_iter=2000)\n",
    "classifier.fit(train_features,train_ids)"
   ]
  },
  {
   "cell_type": "code",
   "execution_count": 16,
   "metadata": {
    "_uuid": "e7168f40ef4a1bf3bba386668717139c6940946e"
   },
   "outputs": [
    {
     "data": {
      "text/html": [
       "<div>\n",
       "<style scoped>\n",
       "    .dataframe tbody tr th:only-of-type {\n",
       "        vertical-align: middle;\n",
       "    }\n",
       "\n",
       "    .dataframe tbody tr th {\n",
       "        vertical-align: top;\n",
       "    }\n",
       "\n",
       "    .dataframe thead th {\n",
       "        text-align: right;\n",
       "    }\n",
       "</style>\n",
       "<table border=\"1\" class=\"dataframe\">\n",
       "  <thead>\n",
       "    <tr style=\"text-align: right;\">\n",
       "      <th></th>\n",
       "      <th>prediction</th>\n",
       "    </tr>\n",
       "    <tr>\n",
       "      <th>RowId</th>\n",
       "      <th></th>\n",
       "    </tr>\n",
       "  </thead>\n",
       "  <tbody>\n",
       "    <tr>\n",
       "      <th>1</th>\n",
       "      <td>http://eu.battle.net/sc2/en/profile/3538115/1/Golden/</td>\n",
       "    </tr>\n",
       "    <tr>\n",
       "      <th>2</th>\n",
       "      <td>http://eu.battle.net/sc2/en/profile/2896854/1/MǂForGG/</td>\n",
       "    </tr>\n",
       "    <tr>\n",
       "      <th>3</th>\n",
       "      <td>http://eu.battle.net/sc2/en/profile/3973341/1/yoeFWSan/</td>\n",
       "    </tr>\n",
       "    <tr>\n",
       "      <th>4</th>\n",
       "      <td>http://eu.battle.net/sc2/en/profile/250458/1/VortiX/</td>\n",
       "    </tr>\n",
       "    <tr>\n",
       "      <th>5</th>\n",
       "      <td>http://eu.battle.net/sc2/en/profile/950504/1/Grubby/</td>\n",
       "    </tr>\n",
       "  </tbody>\n",
       "</table>\n",
       "</div>"
      ],
      "text/plain": [
       "                                                    prediction\n",
       "RowId                                                         \n",
       "1        http://eu.battle.net/sc2/en/profile/3538115/1/Golden/\n",
       "2       http://eu.battle.net/sc2/en/profile/2896854/1/MǂForGG/\n",
       "3      http://eu.battle.net/sc2/en/profile/3973341/1/yoeFWSan/\n",
       "4         http://eu.battle.net/sc2/en/profile/250458/1/VortiX/\n",
       "5         http://eu.battle.net/sc2/en/profile/950504/1/Grubby/"
      ]
     },
     "execution_count": 16,
     "metadata": {},
     "output_type": "execute_result"
    }
   ],
   "source": [
    "predicted_ids_lr = classifier.predict(test_features)\n",
    "predicted_ids_lr_df = convert(predicted_ids_lr)\n",
    "save(predicted_ids_lr_df, 'logisticregression')\n",
    "predicted_ids_lr_df.head()"
   ]
  },
  {
   "cell_type": "markdown",
   "metadata": {},
   "source": [
    "### Second approach: Decision Tree"
   ]
  },
  {
   "cell_type": "code",
   "execution_count": 17,
   "metadata": {},
   "outputs": [
    {
     "data": {
      "text/plain": [
       "0.6604803493449781"
      ]
     },
     "execution_count": 17,
     "metadata": {},
     "output_type": "execute_result"
    }
   ],
   "source": [
    "classifier = DecisionTreeClassifier(min_samples_split=20, random_state=99)\n",
    "classifier.fit(x_train,y_train)\n",
    "y_predict = classifier.predict(x_test)\n",
    "f1_score(y_test, y_predict, average='micro')"
   ]
  },
  {
   "cell_type": "code",
   "execution_count": 18,
   "metadata": {},
   "outputs": [
    {
     "data": {
      "text/plain": [
       "DecisionTreeClassifier(class_weight=None, criterion='gini', max_depth=None,\n",
       "            max_features=None, max_leaf_nodes=None,\n",
       "            min_impurity_decrease=0.0, min_impurity_split=None,\n",
       "            min_samples_leaf=1, min_samples_split=20,\n",
       "            min_weight_fraction_leaf=0.0, presort=False, random_state=99,\n",
       "            splitter='best')"
      ]
     },
     "execution_count": 18,
     "metadata": {},
     "output_type": "execute_result"
    }
   ],
   "source": [
    "dt = DecisionTreeClassifier(min_samples_split=20, random_state=99)\n",
    "dt.fit(train_features,train_ids)"
   ]
  },
  {
   "cell_type": "code",
   "execution_count": 19,
   "metadata": {},
   "outputs": [
    {
     "data": {
      "text/html": [
       "<div>\n",
       "<style scoped>\n",
       "    .dataframe tbody tr th:only-of-type {\n",
       "        vertical-align: middle;\n",
       "    }\n",
       "\n",
       "    .dataframe tbody tr th {\n",
       "        vertical-align: top;\n",
       "    }\n",
       "\n",
       "    .dataframe thead th {\n",
       "        text-align: right;\n",
       "    }\n",
       "</style>\n",
       "<table border=\"1\" class=\"dataframe\">\n",
       "  <thead>\n",
       "    <tr style=\"text-align: right;\">\n",
       "      <th></th>\n",
       "      <th>prediction</th>\n",
       "    </tr>\n",
       "    <tr>\n",
       "      <th>RowId</th>\n",
       "      <th></th>\n",
       "    </tr>\n",
       "  </thead>\n",
       "  <tbody>\n",
       "    <tr>\n",
       "      <th>1</th>\n",
       "      <td>http://eu.battle.net/sc2/en/profile/3538115/1/Golden/</td>\n",
       "    </tr>\n",
       "    <tr>\n",
       "      <th>2</th>\n",
       "      <td>http://kr.battle.net/sc2/en/profile/2343531/1/DREAM/</td>\n",
       "    </tr>\n",
       "    <tr>\n",
       "      <th>3</th>\n",
       "      <td>http://eu.battle.net/sc2/en/profile/3973341/1/yoeFWSan/</td>\n",
       "    </tr>\n",
       "    <tr>\n",
       "      <th>4</th>\n",
       "      <td>http://eu.battle.net/sc2/en/profile/250458/1/VortiX/</td>\n",
       "    </tr>\n",
       "    <tr>\n",
       "      <th>5</th>\n",
       "      <td>http://us.battle.net/sc2/en/profile/4352638/1/Tassadar/</td>\n",
       "    </tr>\n",
       "  </tbody>\n",
       "</table>\n",
       "</div>"
      ],
      "text/plain": [
       "                                                    prediction\n",
       "RowId                                                         \n",
       "1        http://eu.battle.net/sc2/en/profile/3538115/1/Golden/\n",
       "2         http://kr.battle.net/sc2/en/profile/2343531/1/DREAM/\n",
       "3      http://eu.battle.net/sc2/en/profile/3973341/1/yoeFWSan/\n",
       "4         http://eu.battle.net/sc2/en/profile/250458/1/VortiX/\n",
       "5      http://us.battle.net/sc2/en/profile/4352638/1/Tassadar/"
      ]
     },
     "execution_count": 19,
     "metadata": {},
     "output_type": "execute_result"
    }
   ],
   "source": [
    "predicted_ids_dt = dt.predict(test_features)\n",
    "predicted_ids_dt_df = convert(predicted_ids_dt)\n",
    "save(predicted_ids_dt_df, 'decisiontree')\n",
    "predicted_ids_dt_df.head()"
   ]
  },
  {
   "cell_type": "markdown",
   "metadata": {},
   "source": [
    "Number of differences between Decision Tree and Logistic Regression"
   ]
  },
  {
   "cell_type": "code",
   "execution_count": 20,
   "metadata": {},
   "outputs": [
    {
     "data": {
      "text/plain": [
       "215"
      ]
     },
     "execution_count": 20,
     "metadata": {},
     "output_type": "execute_result"
    }
   ],
   "source": [
    "len(predicted_ids_dt_df)-len(set(predicted_ids_dt_df['prediction']).intersection(set(predicted_ids_lr_df['prediction'])))"
   ]
  },
  {
   "cell_type": "code",
   "execution_count": 21,
   "metadata": {},
   "outputs": [
    {
     "data": {
      "text/plain": [
       "340"
      ]
     },
     "execution_count": 21,
     "metadata": {},
     "output_type": "execute_result"
    }
   ],
   "source": [
    "len(predicted_ids_dt_df)"
   ]
  },
  {
   "cell_type": "markdown",
   "metadata": {},
   "source": [
    "### Third approach: Random Forest"
   ]
  },
  {
   "cell_type": "code",
   "execution_count": 22,
   "metadata": {},
   "outputs": [
    {
     "data": {
      "text/plain": [
       "0.9115720524017468"
      ]
     },
     "execution_count": 22,
     "metadata": {},
     "output_type": "execute_result"
    }
   ],
   "source": [
    "classifier = RandomForestClassifier(random_state=13, n_estimators=500)\n",
    "classifier.fit(x_train,y_train)\n",
    "y_predict = classifier.predict(x_test)\n",
    "f1_score(y_test, y_predict, average='micro')"
   ]
  },
  {
   "cell_type": "code",
   "execution_count": 23,
   "metadata": {},
   "outputs": [
    {
     "data": {
      "text/plain": [
       "<matplotlib.axes._subplots.AxesSubplot at 0x1a22a136d8>"
      ]
     },
     "execution_count": 23,
     "metadata": {},
     "output_type": "execute_result"
    },
    {
     "data": {
      "image/png": "[encoded data removed]",
      "text/plain": [
       "<Figure size 1440x720 with 1 Axes>"
      ]
     },
     "metadata": {
      "needs_background": "light"
     },
     "output_type": "display_data"
    }
   ],
   "source": [
    "features_importance = pd.Series(classifier.feature_importances_)\n",
    "features_importance.index = x_train.columns\n",
    "features_importance.plot.bar(figsize=(20,10))"
   ]
  },
  {
   "cell_type": "code",
   "execution_count": 24,
   "metadata": {},
   "outputs": [
    {
     "data": {
      "text/plain": [
       "RandomForestClassifier(bootstrap=True, class_weight=None, criterion='gini',\n",
       "            max_depth=None, max_features='auto', max_leaf_nodes=None,\n",
       "            min_impurity_decrease=0.0, min_impurity_split=None,\n",
       "            min_samples_leaf=1, min_samples_split=2,\n",
       "            min_weight_fraction_leaf=0.0, n_estimators=500, n_jobs=None,\n",
       "            oob_score=False, random_state=13, verbose=0, warm_start=False)"
      ]
     },
     "execution_count": 24,
     "metadata": {},
     "output_type": "execute_result"
    }
   ],
   "source": [
    "rf = RandomForestClassifier(random_state=13, n_estimators=500)\n",
    "rf.fit(train_features,train_ids)"
   ]
  },
  {
   "cell_type": "code",
   "execution_count": 25,
   "metadata": {},
   "outputs": [
    {
     "data": {
      "text/html": [
       "<div>\n",
       "<style scoped>\n",
       "    .dataframe tbody tr th:only-of-type {\n",
       "        vertical-align: middle;\n",
       "    }\n",
       "\n",
       "    .dataframe tbody tr th {\n",
       "        vertical-align: top;\n",
       "    }\n",
       "\n",
       "    .dataframe thead th {\n",
       "        text-align: right;\n",
       "    }\n",
       "</style>\n",
       "<table border=\"1\" class=\"dataframe\">\n",
       "  <thead>\n",
       "    <tr style=\"text-align: right;\">\n",
       "      <th></th>\n",
       "      <th>prediction</th>\n",
       "    </tr>\n",
       "    <tr>\n",
       "      <th>RowId</th>\n",
       "      <th></th>\n",
       "    </tr>\n",
       "  </thead>\n",
       "  <tbody>\n",
       "    <tr>\n",
       "      <th>1</th>\n",
       "      <td>http://eu.battle.net/sc2/en/profile/3538115/1/Golden/</td>\n",
       "    </tr>\n",
       "    <tr>\n",
       "      <th>2</th>\n",
       "      <td>http://eu.battle.net/sc2/en/profile/2896854/1/MǂForGG/</td>\n",
       "    </tr>\n",
       "    <tr>\n",
       "      <th>3</th>\n",
       "      <td>http://eu.battle.net/sc2/en/profile/3973341/1/yoeFWSan/</td>\n",
       "    </tr>\n",
       "    <tr>\n",
       "      <th>4</th>\n",
       "      <td>http://eu.battle.net/sc2/en/profile/250458/1/VortiX/</td>\n",
       "    </tr>\n",
       "    <tr>\n",
       "      <th>5</th>\n",
       "      <td>http://eu.battle.net/sc2/en/profile/950504/1/Grubby/</td>\n",
       "    </tr>\n",
       "  </tbody>\n",
       "</table>\n",
       "</div>"
      ],
      "text/plain": [
       "                                                    prediction\n",
       "RowId                                                         \n",
       "1        http://eu.battle.net/sc2/en/profile/3538115/1/Golden/\n",
       "2       http://eu.battle.net/sc2/en/profile/2896854/1/MǂForGG/\n",
       "3      http://eu.battle.net/sc2/en/profile/3973341/1/yoeFWSan/\n",
       "4         http://eu.battle.net/sc2/en/profile/250458/1/VortiX/\n",
       "5         http://eu.battle.net/sc2/en/profile/950504/1/Grubby/"
      ]
     },
     "execution_count": 25,
     "metadata": {},
     "output_type": "execute_result"
    }
   ],
   "source": [
    "predicted_ids_rf = rf.predict(test_features)\n",
    "predicted_ids_rf_df = convert(predicted_ids_rf)\n",
    "save(predicted_ids_rf_df, 'randomforest')\n",
    "predicted_ids_rf_df.head()"
   ]
  },
  {
   "cell_type": "markdown",
   "metadata": {},
   "source": [
    "Number of differences between Decision Tree and Random Forest"
   ]
  },
  {
   "cell_type": "code",
   "execution_count": 26,
   "metadata": {},
   "outputs": [
    {
     "data": {
      "text/plain": [
       "207"
      ]
     },
     "execution_count": 26,
     "metadata": {},
     "output_type": "execute_result"
    }
   ],
   "source": [
    "len(predicted_ids_rf_df)-len(set(predicted_ids_rf_df['prediction']).intersection(set(predicted_ids_dt_df['prediction'])))"
   ]
  },
  {
   "cell_type": "code",
   "execution_count": 27,
   "metadata": {},
   "outputs": [
    {
     "data": {
      "text/plain": [
       "340"
      ]
     },
     "execution_count": 27,
     "metadata": {},
     "output_type": "execute_result"
    }
   ],
   "source": [
    "len(predicted_ids_rf_df)"
   ]
  }
 ],
 "metadata": {
  "kernelspec": {
   "display_name": "Python 3",
   "language": "python",
   "name": "python3"
  },
  "language_info": {
   "codemirror_mode": {
    "name": "ipython",
    "version": 3
   },
   "file_extension": ".py",
   "mimetype": "text/x-python",
   "name": "python",
   "nbconvert_exporter": "python",
   "pygments_lexer": "ipython3",
   "version": "3.7.0"
  }
 },
 "nbformat": 4,
 "nbformat_minor": 1
}
